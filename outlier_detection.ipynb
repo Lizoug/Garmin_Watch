{
 "cells": [
  {
   "cell_type": "code",
   "execution_count": 1,
   "metadata": {},
   "outputs": [],
   "source": [
    "import pandas as pd"
   ]
  },
  {
   "cell_type": "code",
   "execution_count": 2,
   "metadata": {},
   "outputs": [],
   "source": [
    "person_0 = pd.read_json(r'datasets/december/liza.json', lines=True) # liza\n",
    "person_1 = pd.read_json(r'datasets/december/sleep_data_Adham.json', lines=True) # adham\n",
    "person_2 = pd.read_json(r'datasets/december/sleep_data_Miriam.json', lines=True) # miriam\n",
    "person_3 = pd.read_json(r'datasets/december/sleep_data_Syahid.json', lines=True) # syahid\n",
    "person_4 = pd.read_json(r'datasets/december/sleep_data_Florian.json', lines=True) # florian\n",
    "person_5 = pd.read_json(r'datasets/december/sleep_data_Shado.json', lines=True) # shado\n",
    "person_6 = pd.read_json(r'datasets/december/sleep_data_Alina.json', lines=True) # alina\n",
    "\n",
    "# labels dataframe from excel\n",
    "labels_df = pd.read_excel(r'datasets\\sleep_data.xlsx', sheet_name=None) # dict of all label"
   ]
  },
  {
   "cell_type": "code",
   "execution_count": null,
   "metadata": {},
   "outputs": [],
   "source": [
    "people_df = [person_0, person_1, person_2, person_3, person_4, person_5, person_6]\n",
    "\n",
    "for num, df in enumerate(people_df):\n",
    "    df.insert(0, \"temp_id\", num)"
   ]
  }
 ],
 "metadata": {
  "kernelspec": {
   "display_name": "dig_health",
   "language": "python",
   "name": "python3"
  },
  "language_info": {
   "codemirror_mode": {
    "name": "ipython",
    "version": 3
   },
   "file_extension": ".py",
   "mimetype": "text/x-python",
   "name": "python",
   "nbconvert_exporter": "python",
   "pygments_lexer": "ipython3",
   "version": "3.10.13"
  }
 },
 "nbformat": 4,
 "nbformat_minor": 2
}
