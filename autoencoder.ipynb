{
 "cells": [
  {
   "cell_type": "code",
   "execution_count": 26,
   "metadata": {},
   "outputs": [],
   "source": [
    "import pandas as pd\n",
    "import numpy as np\n",
    "from keras.models import Model\n",
    "from keras.layers import Input, LSTM, RepeatVector\n",
    "from keras.preprocessing.sequence import pad_sequences\n",
    "from sklearn.preprocessing import MinMaxScaler\n",
    "import tensorflow as tf\n",
    "import keras\n",
    "from sklearn.model_selection import train_test_split\n",
    "\n",
    "import draft.data_cleaning as dc"
   ]
  },
  {
   "cell_type": "code",
   "execution_count": 14,
   "metadata": {},
   "outputs": [],
   "source": [
    "person_1 = pd.read_json(r'datasets/december/liza.json', orient='records', lines=True) # liza\n",
    "person_2 = pd.read_json(r'datasets/december/sleep_data_Adham.json', lines=True) # adham\n",
    "person_3 = pd.read_json(r'datasets/december/sleep_data_Miriam.json', lines=True) # miriam\n",
    "person_4 = pd.read_json(r'datasets/december/sleep_data_Syahid.json', lines=True) # syahid\n",
    "person_5 = pd.read_json(r'datasets/december/sleep_data_florian.json', lines=True) # florian\n",
    "\n",
    "# labels dataframe from excel\n",
    "labels_df = pd.read_excel(r'datasets\\sleep_data.xlsx', sheet_name=None) # dict of all label"
   ]
  },
  {
   "cell_type": "code",
   "execution_count": 15,
   "metadata": {},
   "outputs": [],
   "source": [
    "people_df = [person_1, person_2, person_3, person_4, person_5]\n",
    "\n",
    "for num, df in enumerate(people_df):\n",
    "    df.insert(0, \"temp_id\", num)"
   ]
  },
  {
   "cell_type": "code",
   "execution_count": 16,
   "metadata": {},
   "outputs": [],
   "source": [
    "# Durchlaufen der Liste und Anwenden der Funktionen\n",
    "for num, df in enumerate(people_df):\n",
    "    # Entfernen unverfolgter Nächte\n",
    "    people_df[num] = dc.delete_untracked_nights(df)\n",
    "\n",
    "    # Zurücksetzen des Index\n",
    "    people_df[num].reset_index(drop=True, inplace=True)\n",
    "\n",
    "# Optional: Zuweisung der bearbeiteten DataFrames zu ihren ursprünglichen Variablennamen\n",
    "person_1, person_2, person_3, person_4, person_5 = people_df"
   ]
  },
  {
   "cell_type": "code",
   "execution_count": 17,
   "metadata": {},
   "outputs": [],
   "source": [
    "time_series_list = []\n",
    "\n",
    "for num, df in enumerate(people_df):\n",
    "    # Extrahieren der Zeitreihendaten (Annahme: gibt einen DataFrame zurück)\n",
    "    temp_df = dc.main_interpolation(df)\n",
    "\n",
    "    # Weisen Sie die eindeutige ID dem DataFrame zu\n",
    "    temp_df['temp_id'] = num\n",
    "\n",
    "    # Fügen Sie den aktualisierten DataFrame der neuen Liste hinzu\n",
    "    time_series_list.append(temp_df)"
   ]
  },
  {
   "cell_type": "code",
   "execution_count": 18,
   "metadata": {},
   "outputs": [
    {
     "data": {
      "text/plain": [
       "(542, 7)"
      ]
     },
     "execution_count": 18,
     "metadata": {},
     "output_type": "execute_result"
    }
   ],
   "source": [
    "time_series_list[0][1].shape"
   ]
  },
  {
   "cell_type": "code",
   "execution_count": 19,
   "metadata": {},
   "outputs": [
    {
     "name": "stdout",
     "output_type": "stream",
     "text": [
      "Person 1:\n",
      "  Nacht 0: 626 Zeilen\n",
      "  Nacht 1: 542 Zeilen\n",
      "  Nacht 2: 428 Zeilen\n",
      "  Nacht 3: 359 Zeilen\n",
      "  Nacht 4: 520 Zeilen\n",
      "  Nacht 5: 413 Zeilen\n",
      "  Nacht 6: 548 Zeilen\n",
      "  Nacht 7: 667 Zeilen\n",
      "  Nacht 8: 428 Zeilen\n",
      "  Nacht 9: 522 Zeilen\n",
      "  Nacht 10: 396 Zeilen\n",
      "  Nacht 11: 541 Zeilen\n",
      "  Nacht 12: 437 Zeilen\n",
      "  Nacht 13: 415 Zeilen\n",
      "  Nacht 14: 552 Zeilen\n",
      "Person 2:\n",
      "  Nacht 0: 476 Zeilen\n",
      "  Nacht 1: 355 Zeilen\n",
      "  Nacht 2: 344 Zeilen\n",
      "  Nacht 3: 454 Zeilen\n",
      "  Nacht 4: 313 Zeilen\n",
      "  Nacht 5: 529 Zeilen\n",
      "  Nacht 6: 254 Zeilen\n",
      "  Nacht 7: 320 Zeilen\n",
      "  Nacht 8: 600 Zeilen\n",
      "  Nacht 9: 301 Zeilen\n",
      "  Nacht 10: 584 Zeilen\n",
      "  Nacht 11: 384 Zeilen\n",
      "  Nacht 12: 478 Zeilen\n",
      "  Nacht 13: 478 Zeilen\n",
      "  Nacht 14: 434 Zeilen\n",
      "  Nacht 15: 324 Zeilen\n",
      "  Nacht 16: 562 Zeilen\n",
      "  Nacht 17: 505 Zeilen\n",
      "  Nacht 18: 394 Zeilen\n",
      "Person 3:\n",
      "  Nacht 0: 579 Zeilen\n",
      "  Nacht 1: 313 Zeilen\n",
      "  Nacht 2: 495 Zeilen\n",
      "  Nacht 3: 455 Zeilen\n",
      "  Nacht 4: 547 Zeilen\n",
      "  Nacht 5: 481 Zeilen\n",
      "  Nacht 6: 458 Zeilen\n",
      "  Nacht 7: 524 Zeilen\n",
      "  Nacht 8: 314 Zeilen\n",
      "  Nacht 9: 328 Zeilen\n",
      "  Nacht 10: 487 Zeilen\n",
      "  Nacht 11: 347 Zeilen\n",
      "  Nacht 12: 407 Zeilen\n",
      "  Nacht 13: 435 Zeilen\n",
      "  Nacht 14: 310 Zeilen\n",
      "Person 4:\n",
      "  Nacht 0: 646 Zeilen\n",
      "  Nacht 1: 463 Zeilen\n",
      "  Nacht 2: 534 Zeilen\n",
      "  Nacht 3: 701 Zeilen\n",
      "  Nacht 4: 438 Zeilen\n",
      "  Nacht 5: 371 Zeilen\n",
      "  Nacht 6: 603 Zeilen\n",
      "  Nacht 7: 367 Zeilen\n",
      "  Nacht 8: 542 Zeilen\n",
      "  Nacht 9: 212 Zeilen\n",
      "  Nacht 10: 411 Zeilen\n",
      "  Nacht 11: 384 Zeilen\n",
      "  Nacht 12: 315 Zeilen\n",
      "  Nacht 13: 460 Zeilen\n",
      "  Nacht 14: 516 Zeilen\n",
      "  Nacht 15: 405 Zeilen\n",
      "  Nacht 16: 453 Zeilen\n",
      "  Nacht 17: 994 Zeilen\n",
      "  Nacht 18: 470 Zeilen\n",
      "  Nacht 19: 695 Zeilen\n",
      "  Nacht 20: 322 Zeilen\n",
      "Person 5:\n",
      "  Nacht 0: 491 Zeilen\n",
      "  Nacht 1: 428 Zeilen\n",
      "  Nacht 2: 426 Zeilen\n",
      "  Nacht 3: 422 Zeilen\n",
      "  Nacht 4: 411 Zeilen\n",
      "  Nacht 5: 408 Zeilen\n",
      "  Nacht 6: 690 Zeilen\n",
      "  Nacht 7: 451 Zeilen\n",
      "  Nacht 8: 416 Zeilen\n",
      "  Nacht 9: 420 Zeilen\n",
      "  Nacht 10: 407 Zeilen\n",
      "  Nacht 11: 417 Zeilen\n",
      "  Nacht 12: 646 Zeilen\n",
      "  Nacht 13: 503 Zeilen\n",
      "  Nacht 14: 398 Zeilen\n",
      "  Nacht 15: 394 Zeilen\n",
      "  Nacht 16: 460 Zeilen\n",
      "  Nacht 17: 499 Zeilen\n",
      "  Nacht 18: 598 Zeilen\n",
      "  Nacht 19: 505 Zeilen\n",
      "  Nacht 20: 440 Zeilen\n",
      "91\n"
     ]
    }
   ],
   "source": [
    "# find total nights\n",
    "total_nights = 0\n",
    "# Durchlaufen jeder Person in der Liste\n",
    "for person_index, person_data in enumerate(time_series_list):\n",
    "    print(f\"Person {person_index + 1}:\")\n",
    "\n",
    "    # Überprüfen, ob person_data ein Dictionary ist\n",
    "    if isinstance(person_data, dict):\n",
    "        # Durchlaufen jedes Nacht-DataFrames der Person\n",
    "        for night, df in person_data.items():\n",
    "            # Überprüfen, ob der Wert ein DataFrame ist\n",
    "            if isinstance(df, pd.DataFrame):\n",
    "                #if len(df) > max_length:\n",
    "                    #max_length = len(df)\n",
    "                    print(f\"  Nacht {night}: {len(df)} Zeilen\")\n",
    "                    total_nights +=1\n",
    "\n",
    "print(total_nights)"
   ]
  },
  {
   "cell_type": "code",
   "execution_count": 21,
   "metadata": {},
   "outputs": [
    {
     "data": {
      "text/plain": [
       "994"
      ]
     },
     "execution_count": 21,
     "metadata": {},
     "output_type": "execute_result"
    }
   ],
   "source": [
    "def calculate_maximum_length(list_):\n",
    "    max_length = 0  # Initialize max_length to store the maximum number of rows\n",
    "\n",
    "    # Iterate through each person in the list\n",
    "    for person_index, person_data in enumerate(time_series_list):\n",
    "        # Iterate through each night DataFrame of the person\n",
    "        for night, df in person_data.items():\n",
    "            # Check if the value is a DataFrame\n",
    "            if isinstance(df, pd.DataFrame):\n",
    "                # Update max_length if this night has more rows\n",
    "                if len(df) > max_length:\n",
    "                    max_length = len(df)\n",
    "\n",
    "    # After completing the iteration, max_length will hold the number of rows of the longest night\n",
    "    return max_length\n",
    "\n",
    "max_length = calculate_maximum_length(time_series_list)\n",
    "max_length"
   ]
  },
  {
   "cell_type": "code",
   "execution_count": 27,
   "metadata": {},
   "outputs": [],
   "source": [
    "# Define a generator function to yield night DataFrames\n",
    "def night_generator(time_series_list):\n",
    "    for person_data in time_series_list:\n",
    "        for night, df in person_data.items():\n",
    "            if isinstance(df, pd.DataFrame):\n",
    "                yield df\n",
    "\n",
    "# Define a function to process data\n",
    "def process_data(interpolated_df, max_length):\n",
    "    padded_data = pad_sequences([interpolated_df.values], dtype='float32', padding='post', maxlen=max_length)\n",
    "    return padded_data[0]\n",
    "\n",
    "# Iterate through each person and night to preprocess and pad the data\n",
    "\n",
    "#Define the maximum length\n",
    "max_length = calculate_maximum_length(time_series_list)\n",
    "\n",
    "night_iterator = night_generator(time_series_list)\n",
    "processed_data = []\n",
    "\n",
    "for night_df in night_iterator:\n",
    "    padded_night_data = process_data(night_df, max_length) # do the padding\n",
    "    processed_data.append(padded_night_data)\n",
    "\n",
    "# Convert processed data to a NumPy array and normalize if needed\n",
    "training_data = np.array(processed_data)\n",
    "\n",
    "# Split  into training/testing sets (80%/20%)\n",
    "X_train, X_test  = train_test_split(training_data, test_size=0.2, random_state=42)"
   ]
  },
  {
   "cell_type": "code",
   "execution_count": 28,
   "metadata": {},
   "outputs": [
    {
     "name": "stdout",
     "output_type": "stream",
     "text": [
      "Model: \"model_2\"\n",
      "_________________________________________________________________\n",
      " Layer (type)                Output Shape              Param #   \n",
      "=================================================================\n",
      " input_3 (InputLayer)        [(None, 994, 7)]          0         \n",
      "                                                                 \n",
      " lstm_6 (LSTM)               (None, 100)               43200     \n",
      "                                                                 \n",
      " repeat_vector_2 (RepeatVec  (None, 994, 100)          0         \n",
      " tor)                                                            \n",
      "                                                                 \n",
      " lstm_7 (LSTM)               (None, 994, 100)          80400     \n",
      "                                                                 \n",
      " lstm_8 (LSTM)               (None, 994, 7)            3024      \n",
      "                                                                 \n",
      "=================================================================\n",
      "Total params: 126624 (494.62 KB)\n",
      "Trainable params: 126624 (494.62 KB)\n",
      "Non-trainable params: 0 (0.00 Byte)\n",
      "_________________________________________________________________\n"
     ]
    }
   ],
   "source": [
    "\n",
    "# Define the number of features per timestep\n",
    "n_features = 7\n",
    "\n",
    "# Encoder\n",
    "inputs = Input(shape=(max_length, n_features))\n",
    "encoder_lstm = LSTM(100, activation='relu', return_sequences=False)(inputs)\n",
    "encoder_output = RepeatVector(max_length)(encoder_lstm)\n",
    "\n",
    "# Decoder\n",
    "decoder_lstm = LSTM(100, activation='relu', return_sequences=True)(encoder_output)\n",
    "decoder_output = LSTM(n_features, return_sequences=True)(decoder_lstm)\n",
    "\n",
    "# Seq2Seq Autoencoder Model\n",
    "seq2seq_autoencoder = Model(inputs, decoder_output)\n",
    "\n",
    "# Compile the model\n",
    "seq2seq_autoencoder.compile(optimizer='adam', loss='mse')\n",
    "\n",
    "# Show architecture\n",
    "seq2seq_autoencoder.summary()\n"
   ]
  },
  {
   "cell_type": "code",
   "execution_count": 29,
   "metadata": {},
   "outputs": [
    {
     "name": "stdout",
     "output_type": "stream",
     "text": [
      "Epoch 1/100\n",
      "2/2 [==============================] - 9s 3s/step - loss: 0.0956 - val_loss: 0.0969\n",
      "Epoch 2/100\n"
     ]
    },
    {
     "name": "stderr",
     "output_type": "stream",
     "text": [
      "c:\\Users\\ASUS\\anaconda3\\envs\\AdvIntSys\\Lib\\site-packages\\keras\\src\\engine\\training.py:3079: UserWarning: You are saving your model as an HDF5 file via `model.save()`. This file format is considered legacy. We recommend using instead the native Keras format, e.g. `model.save('my_model.keras')`.\n",
      "  saving_api.save_model(\n"
     ]
    },
    {
     "name": "stdout",
     "output_type": "stream",
     "text": [
      "2/2 [==============================] - 5s 2s/step - loss: 0.0938 - val_loss: 0.0949\n",
      "Epoch 3/100\n",
      "2/2 [==============================] - 4s 2s/step - loss: 0.0917 - val_loss: 0.0922\n",
      "Epoch 4/100\n",
      "2/2 [==============================] - 5s 2s/step - loss: 0.0889 - val_loss: 0.0888\n",
      "Epoch 5/100\n",
      "2/2 [==============================] - 5s 2s/step - loss: 0.0854 - val_loss: 0.0845\n",
      "Epoch 6/100\n",
      "2/2 [==============================] - 5s 2s/step - loss: 0.0810 - val_loss: 0.0793\n",
      "Epoch 7/100\n",
      "2/2 [==============================] - 5s 2s/step - loss: 0.0757 - val_loss: 0.0737\n",
      "Epoch 8/100\n",
      "2/2 [==============================] - 5s 2s/step - loss: 0.0716 - val_loss: 0.0722\n",
      "Epoch 9/100\n",
      "2/2 [==============================] - 5s 2s/step - loss: 0.0712 - val_loss: 0.0700\n",
      "Epoch 10/100\n",
      "2/2 [==============================] - 5s 2s/step - loss: 0.0689 - val_loss: 0.0671\n",
      "Epoch 11/100\n",
      "2/2 [==============================] - 5s 2s/step - loss: 0.0664 - val_loss: 0.0658\n",
      "Epoch 12/100\n",
      "2/2 [==============================] - 5s 2s/step - loss: 0.0651 - val_loss: 0.0641\n",
      "Epoch 13/100\n",
      "2/2 [==============================] - 5s 2s/step - loss: 0.0637 - val_loss: 0.0619\n",
      "Epoch 14/100\n",
      "2/2 [==============================] - 5s 2s/step - loss: 0.0621 - val_loss: 0.0603\n",
      "Epoch 15/100\n",
      "2/2 [==============================] - 5s 2s/step - loss: 0.0615 - val_loss: 0.0596\n",
      "Epoch 16/100\n",
      "2/2 [==============================] - 5s 2s/step - loss: 0.0613 - val_loss: 0.0590\n",
      "Epoch 17/100\n",
      "2/2 [==============================] - 5s 2s/step - loss: 0.0608 - val_loss: 0.0592\n",
      "Epoch 18/100\n",
      "2/2 [==============================] - 5s 2s/step - loss: 0.0611 - val_loss: 0.0595\n",
      "Epoch 19/100\n",
      "2/2 [==============================] - 5s 2s/step - loss: 0.0610 - val_loss: 0.0590\n",
      "Epoch 20/100\n",
      "2/2 [==============================] - 5s 2s/step - loss: 0.0608 - val_loss: 0.0589\n",
      "Epoch 21/100\n",
      "2/2 [==============================] - 5s 2s/step - loss: 0.0608 - val_loss: 0.0590\n",
      "Epoch 22/100\n",
      "2/2 [==============================] - 5s 2s/step - loss: 0.0606 - val_loss: 0.0592\n",
      "Epoch 23/100\n",
      "2/2 [==============================] - 5s 2s/step - loss: 0.0604 - val_loss: 0.0594\n",
      "Epoch 24/100\n",
      "2/2 [==============================] - 5s 2s/step - loss: 0.0604 - val_loss: 0.0594\n",
      "Epoch 25/100\n",
      "2/2 [==============================] - 5s 2s/step - loss: 0.0604 - val_loss: 0.0592\n"
     ]
    }
   ],
   "source": [
    "\n",
    "# Define the number of epochs and batch size\n",
    "epochs = 100\n",
    "batch_size = 32\n",
    "\n",
    "# Define checkpoints and early stopping\n",
    "checkpoint = keras.callbacks.ModelCheckpoint('autoencoder_LSTM.h5', save_best_only=True)\n",
    "early_stopping = keras.callbacks.EarlyStopping(monitor='val_loss', patience=5, restore_best_weights=True)\n",
    "\n",
    "\n",
    "# Fit the model to the training data\n",
    "history = seq2seq_autoencoder.fit(\n",
    "    X_train,\n",
    "    X_train,\n",
    "    epochs=epochs,\n",
    "    batch_size=batch_size,\n",
    "    validation_split=0.2,\n",
    "    callbacks=[\n",
    "        checkpoint,\n",
    "        early_stopping\n",
    "    ]\n",
    ")"
   ]
  },
  {
   "cell_type": "markdown",
   "metadata": {},
   "source": [
    "Autoencoder visualization"
   ]
  },
  {
   "cell_type": "code",
   "execution_count": 33,
   "metadata": {},
   "outputs": [
    {
     "name": "stdout",
     "output_type": "stream",
     "text": [
      "1/1 [==============================] - 1s 654ms/step\n"
     ]
    },
    {
     "data": {
      "image/png": "[encoded data removed]",
      "text/plain": [
       "<Figure size 640x480 with 1 Axes>"
      ]
     },
     "metadata": {},
     "output_type": "display_data"
    }
   ],
   "source": [
    "from matplotlib import pyplot as plt\n",
    "\n",
    "X_test_recon = seq2seq_autoencoder.predict(X_test)\n",
    "\n",
    "# 1st day in X_test, all values for the last feature\n",
    "plt.plot(X_test[1,:-1,5])\n",
    "plt.show()"
   ]
  },
  {
   "cell_type": "code",
   "execution_count": 35,
   "metadata": {},
   "outputs": [
    {
     "data": {
      "image/png": "[encoded data removed]",
      "text/plain": [
       "<Figure size 640x480 with 1 Axes>"
      ]
     },
     "metadata": {},
     "output_type": "display_data"
    }
   ],
   "source": [
    "# 1st day in X_test_recon, all values for the second last feature\n",
    "plt.plot(X_test_recon[1,:-1,5])\n",
    "plt.show()"
   ]
  },
  {
   "cell_type": "code",
   "execution_count": 34,
   "metadata": {},
   "outputs": [
    {
     "name": "stdout",
     "output_type": "stream",
     "text": [
      "Model: \"model_3\"\n",
      "_________________________________________________________________\n",
      " Layer (type)                Output Shape              Param #   \n",
      "=================================================================\n",
      " input_3 (InputLayer)        [(None, 994, 7)]          0         \n",
      "                                                                 \n",
      " lstm_6 (LSTM)               (None, 100)               43200     \n",
      "                                                                 \n",
      " repeat_vector_2 (RepeatVec  (None, 994, 100)          0         \n",
      " tor)                                                            \n",
      "                                                                 \n",
      "=================================================================\n",
      "Total params: 43200 (168.75 KB)\n",
      "Trainable params: 43200 (168.75 KB)\n",
      "Non-trainable params: 0 (0.00 Byte)\n",
      "_________________________________________________________________\n"
     ]
    }
   ],
   "source": [
    "# Assuming your encoder LSTM layer is named 'encoder_lstm'\n",
    "\n",
    "# Step 1: Extract the Encoder Model\n",
    "# This model takes the same inputs as your seq2seq_autoencoder but outputs the encoder's state\n",
    "encoder_model = Model(inputs=seq2seq_autoencoder.input, outputs=seq2seq_autoencoder.get_layer(index=2).output)\n",
    "encoder_model.summary()"
   ]
  },
  {
   "cell_type": "markdown",
   "metadata": {},
   "source": [
    "Encoder-only visualization"
   ]
  },
  {
   "cell_type": "code",
   "execution_count": 36,
   "metadata": {},
   "outputs": [],
   "source": [
    "# Define function to save embeddings\n",
    "def save_embeddings(model, x_data, save_path='embeddings.npy'):\n",
    "    embeddings = model.predict(x_data)\n",
    "    np.save(save_path, embeddings)\n",
    "    print(f'Embeddings saved to {save_path}')"
   ]
  },
  {
   "cell_type": "code",
   "execution_count": 37,
   "metadata": {},
   "outputs": [
    {
     "name": "stdout",
     "output_type": "stream",
     "text": [
      "1/1 [==============================] - 0s 437ms/step\n",
      "Embeddings saved to X_test_embeddings.npy\n"
     ]
    }
   ],
   "source": [
    "save_embeddings(encoder_model,X_test,save_path=\"X_test_embeddings.npy\")\n",
    "X_test_embeddings = np.load(\"X_test_embeddings.npy\")"
   ]
  },
  {
   "cell_type": "code",
   "execution_count": 38,
   "metadata": {},
   "outputs": [
    {
     "data": {
      "image/png": "[encoded data removed]",
      "text/plain": [
       "<Figure size 640x480 with 1 Axes>"
      ]
     },
     "metadata": {},
     "output_type": "display_data"
    }
   ],
   "source": [
    "plt.plot(X_test[2][:-1])\n",
    "plt.show()"
   ]
  },
  {
   "cell_type": "code",
   "execution_count": 39,
   "metadata": {},
   "outputs": [
    {
     "data": {
      "text/plain": [
       "(19, 994, 7)"
      ]
     },
     "execution_count": 39,
     "metadata": {},
     "output_type": "execute_result"
    }
   ],
   "source": [
    "X_test.shape"
   ]
  },
  {
   "cell_type": "code",
   "execution_count": 40,
   "metadata": {},
   "outputs": [
    {
     "data": {
      "image/png": "[encoded data removed]",
      "text/plain": [
       "<Figure size 640x480 with 1 Axes>"
      ]
     },
     "metadata": {},
     "output_type": "display_data"
    }
   ],
   "source": [
    "plt.plot(X_test_embeddings[2][:-1])\n",
    "plt.show()"
   ]
  },
  {
   "cell_type": "code",
   "execution_count": 41,
   "metadata": {},
   "outputs": [
    {
     "data": {
      "text/plain": [
       "(19, 994, 100)"
      ]
     },
     "execution_count": 41,
     "metadata": {},
     "output_type": "execute_result"
    }
   ],
   "source": [
    "X_test_embeddings.shape"
   ]
  },
  {
   "cell_type": "code",
   "execution_count": 119,
   "metadata": {},
   "outputs": [
    {
     "name": "stdout",
     "output_type": "stream",
     "text": [
      "1/1 [==============================] - 0s 369ms/step\n"
     ]
    },
    {
     "data": {
      "text/plain": [
       "array([[0.        , 0.03929291, 0.        , 0.05729467, 0.05546304,\n",
       "        0.        , 0.00956762, 0.        , 0.02829745, 0.02150617,\n",
       "        0.00673084, 0.05754669, 0.        , 0.03195135, 0.01586103,\n",
       "        0.01334444, 0.0274994 , 0.        , 0.        , 0.        ,\n",
       "        0.06037556, 0.00967422, 0.        , 0.0394587 , 0.        ,\n",
       "        0.        , 0.        , 0.        , 0.        , 0.01515129,\n",
       "        0.        , 0.        , 0.        , 0.        , 0.01892987,\n",
       "        0.        , 0.        , 0.05186971, 0.03989829, 0.        ,\n",
       "        0.        , 0.        , 0.00200168, 0.        , 0.        ,\n",
       "        0.04898386, 0.03667377, 0.02549991, 0.        , 0.        ,\n",
       "        0.02723131, 0.01746187, 0.        , 0.05198036, 0.03288264,\n",
       "        0.        , 0.        , 0.01830428, 0.04225369, 0.        ,\n",
       "        0.05542608, 0.0306214 , 0.        , 0.        , 0.        ,\n",
       "        0.        , 0.        , 0.        , 0.01962096, 0.        ,\n",
       "        0.        , 0.        , 0.        , 0.02174385, 0.04960664,\n",
       "        0.04373104, 0.        , 0.        , 0.07051437, 0.        ,\n",
       "        0.0331119 , 0.03973646, 0.03810446, 0.02466881, 0.03625934,\n",
       "        0.        , 0.        , 0.0192661 , 0.05101568, 0.03808439,\n",
       "        0.        , 0.        , 0.04363775, 0.        , 0.00816666,\n",
       "        0.        , 0.        , 0.        , 0.        , 0.05389245]],\n",
       "      dtype=float32)"
      ]
     },
     "execution_count": 119,
     "metadata": {},
     "output_type": "execute_result"
    }
   ],
   "source": [
    "# Step 2: Use the Encoder for Prediction\n",
    "# padding the input\n",
    "padded = process_data(time_series_list[0][0], max_length=max_length)\n",
    "arr = np.array(padded)\n",
    "data_reshaped = np.expand_dims(arr, axis=0)\n",
    "\n",
    "# get the embeddings\n",
    "encoder_model.predict(data_reshaped)"
   ]
  },
  {
   "cell_type": "code",
   "execution_count": 120,
   "metadata": {},
   "outputs": [
    {
     "data": {
      "text/plain": [
       "(1, 994, 7)"
      ]
     },
     "execution_count": 120,
     "metadata": {},
     "output_type": "execute_result"
    }
   ],
   "source": [
    "data_reshaped.shape"
   ]
  }
 ],
 "metadata": {
  "kernelspec": {
   "display_name": "dig_health",
   "language": "python",
   "name": "python3"
  },
  "language_info": {
   "codemirror_mode": {
    "name": "ipython",
    "version": 3
   },
   "file_extension": ".py",
   "mimetype": "text/x-python",
   "name": "python",
   "nbconvert_exporter": "python",
   "pygments_lexer": "ipython3",
   "version": "3.11.5"
  }
 },
 "nbformat": 4,
 "nbformat_minor": 2
}
